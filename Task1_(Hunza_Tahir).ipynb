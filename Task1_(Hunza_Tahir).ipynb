{
  "cells": [
    {
      "cell_type": "markdown",
      "metadata": {
        "id": "rw0ABXixVyit"
      },
      "source": [
        "# Mid EXAM : Tools and Techniques Data Science "
      ]
    },
    {
      "cell_type": "markdown",
      "metadata": {
        "id": "-dSZGjToVyiz"
      },
      "source": [
        "# Task 1: ( 5 Marks)  Warp up \n",
        "\n",
        "*   List item\n",
        "*   List item\n",
        "\n"
      ]
    },
    {
      "cell_type": "markdown",
      "metadata": {
        "id": "aYUxIXMpVyi0"
      },
      "source": [
        "# Note : Rename the file with your name and id and also mention your name and id inside here "
      ]
    },
    {
      "cell_type": "raw",
      "metadata": {
        "id": "bOpgGwhWVyi1"
      },
      "source": [
        "Name: Hunza Tahir\n",
        "ID : F2022393009                          "
      ]
    },
    {
      "cell_type": "code",
      "execution_count": null,
      "metadata": {
        "collapsed": true,
        "id": "QH1PnaQWVyi1"
      },
      "outputs": [],
      "source": [
        "# Q1. Here, we take each element in the list a (temporarily assigning it the value i) \n",
        "a = [5, 10, 15, 20]"
      ]
    },
    {
      "cell_type": "code",
      "execution_count": null,
      "metadata": {
        "collapsed": true,
        "id": "9kDpvfZuVyi3"
      },
      "outputs": [],
      "source": [
        "# (i)\tFind the square each element in the list. This creates a new list called b and does not modify a through data comprehension."
      ]
    },
    {
      "cell_type": "code",
      "execution_count": 4,
      "metadata": {
        "colab": {
          "base_uri": "https://localhost:8080/"
        },
        "id": "Z-t3ydFVVyi4",
        "outputId": "008281c2-3797-4fa5-9ae3-86827bd0ad10"
      },
      "outputs": [
        {
          "output_type": "stream",
          "name": "stdout",
          "text": [
            "[25, 100, 225, 400]\n"
          ]
        }
      ],
      "source": [
        "a = [5, 10, 15, 20]\n",
        "b = [x**2 for x in a]\n",
        "print (b)"
      ]
    },
    {
      "cell_type": "code",
      "execution_count": null,
      "metadata": {
        "collapsed": true,
        "id": "mmznCNRLVyi5"
      },
      "outputs": [],
      "source": [
        "# (ii)\tWrite a conditional statement of only squaring the elements if the element is not equal to 10.\n",
        "\n"
      ]
    },
    {
      "cell_type": "code",
      "execution_count": 5,
      "metadata": {
        "colab": {
          "base_uri": "https://localhost:8080/"
        },
        "id": "fR2F66I3Vyi6",
        "outputId": "1b7a9584-0277-489b-e203-c614eca5925c"
      },
      "outputs": [
        {
          "output_type": "stream",
          "name": "stdout",
          "text": [
            "[25, 10, 225, 400]\n"
          ]
        }
      ],
      "source": [
        "a = [5, 10, 15, 20]\n",
        "b = [x**2 if x != 10 else x for x in a]\n",
        "print (b)"
      ]
    },
    {
      "cell_type": "code",
      "execution_count": null,
      "metadata": {
        "collapsed": true,
        "id": "ye7v5kKQVyi6"
      },
      "outputs": [],
      "source": [
        "# Q2. (i) Write the command of random samples from a uniform distribution between 0 and 1? "
      ]
    },
    {
      "cell_type": "code",
      "execution_count": 6,
      "metadata": {
        "id": "v3ChPTDQVyi7"
      },
      "outputs": [],
      "source": [
        "import numpy as np "
      ]
    },
    {
      "cell_type": "code",
      "execution_count": 7,
      "metadata": {
        "colab": {
          "base_uri": "https://localhost:8080/"
        },
        "id": "GSmVbGvtVyi8",
        "outputId": "382e3342-986d-4338-88c6-297a99419da5"
      },
      "outputs": [
        {
          "output_type": "stream",
          "name": "stdout",
          "text": [
            "0.9864595828627616\n",
            "0.4205351630293519\n",
            "0.2868064506454727\n",
            "0.31340886540318336\n",
            "0.9262626521495061\n"
          ]
        }
      ],
      "source": [
        "import random\n",
        "\n",
        "samples = []\n",
        "for _ in range(5):\n",
        "    sample = random.random()\n",
        "    samples.append(sample)\n",
        "    print(sample)"
      ]
    },
    {
      "cell_type": "code",
      "execution_count": null,
      "metadata": {
        "collapsed": true,
        "id": "soz20WhkVyi8"
      },
      "outputs": [],
      "source": [
        "#(ii)\tWrite the command to slice the column 1? "
      ]
    },
    {
      "cell_type": "code",
      "execution_count": 10,
      "metadata": {
        "colab": {
          "base_uri": "https://localhost:8080/"
        },
        "id": "ulcoLSGsVyi9",
        "outputId": "651a563b-651f-48b5-c82b-b2d23fe97ae5"
      },
      "outputs": [
        {
          "output_type": "stream",
          "name": "stdout",
          "text": [
            "[2]\n",
            "[2, 5]\n",
            "[2, 5, 8]\n"
          ]
        }
      ],
      "source": [
        "data_set = [\n",
        "    [1, 2, 3],\n",
        "    [4, 5, 6],\n",
        "    [7, 8, 9]\n",
        "]\n",
        "column1 = [row[1] for row in data_set]\n",
        "column1 = []\n",
        "for row in data_set:\n",
        "    column1.append(row[1])\n",
        "    print(column1)"
      ]
    },
    {
      "cell_type": "code",
      "execution_count": null,
      "metadata": {
        "collapsed": true,
        "id": "5h6FM17dVyi-"
      },
      "outputs": [],
      "source": [
        "#(iii)\tWrite the command of first and third elements in column 1?"
      ]
    },
    {
      "cell_type": "code",
      "execution_count": 12,
      "metadata": {
        "colab": {
          "base_uri": "https://localhost:8080/"
        },
        "id": "IH0X0DGbVyi-",
        "outputId": "bfede29c-3f97-42cc-d3f7-f9891669dd35"
      },
      "outputs": [
        {
          "output_type": "stream",
          "name": "stdout",
          "text": [
            "[2, 8]\n"
          ]
        }
      ],
      "source": [
        "column1_elements = [row[1] for row in data_set[::2]]\n",
        "print(column1_elements)"
      ]
    },
    {
      "cell_type": "code",
      "execution_count": null,
      "metadata": {
        "collapsed": true,
        "id": "_LnRGFaPVyi-"
      },
      "outputs": [],
      "source": [
        "#(iv)\t Write the command of returns an 8 x 4 array"
      ]
    },
    {
      "cell_type": "code",
      "execution_count": 14,
      "metadata": {
        "colab": {
          "base_uri": "https://localhost:8080/"
        },
        "id": "t5MlbCyqVyi_",
        "outputId": "13e75f07-aa1e-4f85-db88-b883456733d7"
      },
      "outputs": [
        {
          "output_type": "stream",
          "name": "stdout",
          "text": [
            "[[0, 0, 0, 0], [0, 0, 0, 0], [0, 0, 0, 0], [0, 0, 0, 0], [0, 0, 0, 0], [0, 0, 0, 0], [0, 0, 0, 0], [0, 0, 0, 0]]\n"
          ]
        }
      ],
      "source": [
        "array = [[0] * 4 for _ in range(8)]\n",
        "print(array)"
      ]
    },
    {
      "cell_type": "code",
      "execution_count": 15,
      "metadata": {
        "collapsed": true,
        "id": "lt0x3jdvVyi_"
      },
      "outputs": [],
      "source": [
        "import pandas as pd "
      ]
    },
    {
      "cell_type": "code",
      "execution_count": null,
      "metadata": {
        "collapsed": true,
        "id": "h_zJPH43VyjB"
      },
      "outputs": [],
      "source": [
        "#Q3. Create a Series that looks like this below:\n",
        "Flour     4 cups\n",
        "Milk       1 cup\n",
        "Eggs     2 large\n",
        "Spam       1 can\n",
        "Name: Dinner, dtype: object"
      ]
    },
    {
      "cell_type": "code",
      "execution_count": 17,
      "metadata": {
        "colab": {
          "base_uri": "https://localhost:8080/"
        },
        "id": "eN0-StmrVyjC",
        "outputId": "9983ffdf-b366-4c19-b504-ad8a072c00b6"
      },
      "outputs": [
        {
          "output_type": "stream",
          "name": "stdout",
          "text": [
            "{'Flour': '4 cups', 'Milk': '1 cup', 'Eggs': '2 large', 'Spam': '1 can'}\n"
          ]
        }
      ],
      "source": [
        "data = {'Flour': '4 cups', 'Milk': '1 cup', 'Eggs': '2 large', 'Spam': '1 can'}\n",
        "series = pd.Series(data, name='Dinner')\n",
        "print(data)"
      ]
    },
    {
      "cell_type": "code",
      "execution_count": 18,
      "metadata": {
        "collapsed": true,
        "id": "GLmQjvHgVyjC"
      },
      "outputs": [],
      "source": [
        "# Q  4 Create the Data frame  as th output[27]"
      ]
    },
    {
      "cell_type": "code",
      "execution_count": 21,
      "metadata": {
        "colab": {
          "base_uri": "https://localhost:8080/"
        },
        "id": "In1roUsLVyjD",
        "outputId": "ff6dc50b-e4f0-4c01-aebd-3baa32132b4f"
      },
      "outputs": [
        {
          "output_type": "stream",
          "name": "stdout",
          "text": [
            "           Apples  Bananas\n",
            "2017Sales      35       21\n",
            "2018Sales      41       34\n"
          ]
        }
      ],
      "source": [
        "import pandas as pd\n",
        "\n",
        "data = {'Apples': [35, 41], 'Bananas': [21, 34]}\n",
        "index = ['2017Sales', '2018Sales']\n",
        "\n",
        "df = pd.DataFrame(data, index=index)\n",
        "print(df)\n"
      ]
    },
    {
      "cell_type": "code",
      "execution_count": 22,
      "metadata": {
        "colab": {
          "base_uri": "https://localhost:8080/",
          "height": 112
        },
        "id": "4AVAHRv5VyjD",
        "outputId": "e3cb55f9-a422-43e7-9bf0-4180f91e0bc5"
      },
      "outputs": [
        {
          "output_type": "execute_result",
          "data": {
            "text/plain": [
              "           Apples  Bananas\n",
              "2017Sales      35       21\n",
              "2018Sales      41       34"
            ],
            "text/html": [
              "\n",
              "  <div id=\"df-3a6d0d4e-b40f-4636-8d0e-e23fdd96b52b\">\n",
              "    <div class=\"colab-df-container\">\n",
              "      <div>\n",
              "<style scoped>\n",
              "    .dataframe tbody tr th:only-of-type {\n",
              "        vertical-align: middle;\n",
              "    }\n",
              "\n",
              "    .dataframe tbody tr th {\n",
              "        vertical-align: top;\n",
              "    }\n",
              "\n",
              "    .dataframe thead th {\n",
              "        text-align: right;\n",
              "    }\n",
              "</style>\n",
              "<table border=\"1\" class=\"dataframe\">\n",
              "  <thead>\n",
              "    <tr style=\"text-align: right;\">\n",
              "      <th></th>\n",
              "      <th>Apples</th>\n",
              "      <th>Bananas</th>\n",
              "    </tr>\n",
              "  </thead>\n",
              "  <tbody>\n",
              "    <tr>\n",
              "      <th>2017Sales</th>\n",
              "      <td>35</td>\n",
              "      <td>21</td>\n",
              "    </tr>\n",
              "    <tr>\n",
              "      <th>2018Sales</th>\n",
              "      <td>41</td>\n",
              "      <td>34</td>\n",
              "    </tr>\n",
              "  </tbody>\n",
              "</table>\n",
              "</div>\n",
              "      <button class=\"colab-df-convert\" onclick=\"convertToInteractive('df-3a6d0d4e-b40f-4636-8d0e-e23fdd96b52b')\"\n",
              "              title=\"Convert this dataframe to an interactive table.\"\n",
              "              style=\"display:none;\">\n",
              "        \n",
              "  <svg xmlns=\"http://www.w3.org/2000/svg\" height=\"24px\"viewBox=\"0 0 24 24\"\n",
              "       width=\"24px\">\n",
              "    <path d=\"M0 0h24v24H0V0z\" fill=\"none\"/>\n",
              "    <path d=\"M18.56 5.44l.94 2.06.94-2.06 2.06-.94-2.06-.94-.94-2.06-.94 2.06-2.06.94zm-11 1L8.5 8.5l.94-2.06 2.06-.94-2.06-.94L8.5 2.5l-.94 2.06-2.06.94zm10 10l.94 2.06.94-2.06 2.06-.94-2.06-.94-.94-2.06-.94 2.06-2.06.94z\"/><path d=\"M17.41 7.96l-1.37-1.37c-.4-.4-.92-.59-1.43-.59-.52 0-1.04.2-1.43.59L10.3 9.45l-7.72 7.72c-.78.78-.78 2.05 0 2.83L4 21.41c.39.39.9.59 1.41.59.51 0 1.02-.2 1.41-.59l7.78-7.78 2.81-2.81c.8-.78.8-2.07 0-2.86zM5.41 20L4 18.59l7.72-7.72 1.47 1.35L5.41 20z\"/>\n",
              "  </svg>\n",
              "      </button>\n",
              "      \n",
              "  <style>\n",
              "    .colab-df-container {\n",
              "      display:flex;\n",
              "      flex-wrap:wrap;\n",
              "      gap: 12px;\n",
              "    }\n",
              "\n",
              "    .colab-df-convert {\n",
              "      background-color: #E8F0FE;\n",
              "      border: none;\n",
              "      border-radius: 50%;\n",
              "      cursor: pointer;\n",
              "      display: none;\n",
              "      fill: #1967D2;\n",
              "      height: 32px;\n",
              "      padding: 0 0 0 0;\n",
              "      width: 32px;\n",
              "    }\n",
              "\n",
              "    .colab-df-convert:hover {\n",
              "      background-color: #E2EBFA;\n",
              "      box-shadow: 0px 1px 2px rgba(60, 64, 67, 0.3), 0px 1px 3px 1px rgba(60, 64, 67, 0.15);\n",
              "      fill: #174EA6;\n",
              "    }\n",
              "\n",
              "    [theme=dark] .colab-df-convert {\n",
              "      background-color: #3B4455;\n",
              "      fill: #D2E3FC;\n",
              "    }\n",
              "\n",
              "    [theme=dark] .colab-df-convert:hover {\n",
              "      background-color: #434B5C;\n",
              "      box-shadow: 0px 1px 3px 1px rgba(0, 0, 0, 0.15);\n",
              "      filter: drop-shadow(0px 1px 2px rgba(0, 0, 0, 0.3));\n",
              "      fill: #FFFFFF;\n",
              "    }\n",
              "  </style>\n",
              "\n",
              "      <script>\n",
              "        const buttonEl =\n",
              "          document.querySelector('#df-3a6d0d4e-b40f-4636-8d0e-e23fdd96b52b button.colab-df-convert');\n",
              "        buttonEl.style.display =\n",
              "          google.colab.kernel.accessAllowed ? 'block' : 'none';\n",
              "\n",
              "        async function convertToInteractive(key) {\n",
              "          const element = document.querySelector('#df-3a6d0d4e-b40f-4636-8d0e-e23fdd96b52b');\n",
              "          const dataTable =\n",
              "            await google.colab.kernel.invokeFunction('convertToInteractive',\n",
              "                                                     [key], {});\n",
              "          if (!dataTable) return;\n",
              "\n",
              "          const docLinkHtml = 'Like what you see? Visit the ' +\n",
              "            '<a target=\"_blank\" href=https://colab.research.google.com/notebooks/data_table.ipynb>data table notebook</a>'\n",
              "            + ' to learn more about interactive tables.';\n",
              "          element.innerHTML = '';\n",
              "          dataTable['output_type'] = 'display_data';\n",
              "          await google.colab.output.renderOutput(dataTable, element);\n",
              "          const docLink = document.createElement('div');\n",
              "          docLink.innerHTML = docLinkHtml;\n",
              "          element.appendChild(docLink);\n",
              "        }\n",
              "      </script>\n",
              "    </div>\n",
              "  </div>\n",
              "  "
            ]
          },
          "metadata": {},
          "execution_count": 22
        }
      ],
      "source": [
        "df"
      ]
    },
    {
      "cell_type": "code",
      "execution_count": null,
      "metadata": {
        "collapsed": true,
        "id": "KvdIpRtSVyjE"
      },
      "outputs": [],
      "source": [
        "#Q4. create Dataframe then find imputation for these missing NaN in the out[47]"
      ]
    },
    {
      "cell_type": "code",
      "execution_count": 24,
      "metadata": {
        "colab": {
          "base_uri": "https://localhost:8080/"
        },
        "id": "JiOy62GiVyjE",
        "outputId": "5620dcd5-5f4c-4255-e9b7-c6e411096ea0"
      },
      "outputs": [
        {
          "output_type": "stream",
          "name": "stdout",
          "text": [
            "    Age Gender   Income   Religion\n",
            "0  23.0      M  24200.0     Muslim\n",
            "1  39.0      F  24200.0  Christian\n",
            "2  45.0      F  45390.0  Christian\n",
            "3  45.0      M  45390.0     Muslim\n"
          ]
        }
      ],
      "source": [
        "import pandas as pd\n",
        "import numpy as np\n",
        "\n",
        "# Create the initial DataFrame with missing values\n",
        "data = {\n",
        "    'Age': [23.0, 39.0, 45.0, np.nan],\n",
        "    'Gender': ['M', 'F', 'F', 'M'],\n",
        "    'Income': [24200.0, np.nan, 45390.0, np.nan],\n",
        "    'Religion': ['Muslim', 'Christian', np.nan, 'Muslim']\n",
        "}\n",
        "\n",
        "df = pd.DataFrame(data)\n",
        "\n",
        "# Perform imputation to fill missing values\n",
        "df_filled = df.fillna(method='ffill')\n",
        "\n",
        "# Print the resulting DataFrame with imputed values\n",
        "print(df_filled)"
      ]
    },
    {
      "cell_type": "code",
      "execution_count": null,
      "metadata": {
        "id": "bss2x-pWVyjE",
        "outputId": "051852e4-1076-4a45-eb9c-940f9d1d1ddf"
      },
      "outputs": [
        {
          "data": {
            "text/html": [
              "<div>\n",
              "<style scoped>\n",
              "    .dataframe tbody tr th:only-of-type {\n",
              "        vertical-align: middle;\n",
              "    }\n",
              "\n",
              "    .dataframe tbody tr th {\n",
              "        vertical-align: top;\n",
              "    }\n",
              "\n",
              "    .dataframe thead th {\n",
              "        text-align: right;\n",
              "    }\n",
              "</style>\n",
              "<table border=\"1\" class=\"dataframe\">\n",
              "  <thead>\n",
              "    <tr style=\"text-align: right;\">\n",
              "      <th></th>\n",
              "      <th>Age</th>\n",
              "      <th>Gender</th>\n",
              "      <th>Income</th>\n",
              "      <th>Religion</th>\n",
              "    </tr>\n",
              "  </thead>\n",
              "  <tbody>\n",
              "    <tr>\n",
              "      <th>0</th>\n",
              "      <td>23.0</td>\n",
              "      <td>M</td>\n",
              "      <td>24200.0</td>\n",
              "      <td>Muslim</td>\n",
              "    </tr>\n",
              "    <tr>\n",
              "      <th>1</th>\n",
              "      <td>39.0</td>\n",
              "      <td>F</td>\n",
              "      <td>NaN</td>\n",
              "      <td>chirstian</td>\n",
              "    </tr>\n",
              "    <tr>\n",
              "      <th>2</th>\n",
              "      <td>45.0</td>\n",
              "      <td>F</td>\n",
              "      <td>45390.0</td>\n",
              "      <td>NaN</td>\n",
              "    </tr>\n",
              "    <tr>\n",
              "      <th>3</th>\n",
              "      <td>NaN</td>\n",
              "      <td>M</td>\n",
              "      <td>NaN</td>\n",
              "      <td>Muslim</td>\n",
              "    </tr>\n",
              "  </tbody>\n",
              "</table>\n",
              "</div>"
            ],
            "text/plain": [
              "    Age Gender   Income   Religion\n",
              "0  23.0      M  24200.0     Muslim\n",
              "1  39.0      F      NaN  chirstian\n",
              "2  45.0      F  45390.0        NaN\n",
              "3   NaN      M      NaN     Muslim"
            ]
          },
          "execution_count": 47,
          "metadata": {},
          "output_type": "execute_result"
        }
      ],
      "source": [
        "df"
      ]
    },
    {
      "cell_type": "code",
      "execution_count": null,
      "metadata": {
        "collapsed": true,
        "id": "77urZL8AVyjF"
      },
      "outputs": [],
      "source": [
        "#Q4(i)\tCompute the appropriate missing value in income attribute?"
      ]
    },
    {
      "cell_type": "code",
      "execution_count": 25,
      "metadata": {
        "id": "1cLdDkcbVyjF"
      },
      "outputs": [],
      "source": [
        "income_mean = df['Income'].mean()\n",
        "df['Income'].fillna(income_mean, inplace=True)"
      ]
    },
    {
      "cell_type": "code",
      "execution_count": null,
      "metadata": {
        "collapsed": true,
        "id": "reP-9FuGVyjF"
      },
      "outputs": [],
      "source": [
        "#(ii)\tCompute the appropriate missing values in religion attribute? "
      ]
    },
    {
      "cell_type": "code",
      "execution_count": 26,
      "metadata": {
        "id": "VqN1W-ptVyjG"
      },
      "outputs": [],
      "source": [
        "religion_mode = df['Religion'].mode()[0]\n",
        "df['Religion'].fillna(religion_mode, inplace=True)"
      ]
    },
    {
      "cell_type": "code",
      "execution_count": null,
      "metadata": {
        "id": "1Vu64fZ3VyjG"
      },
      "outputs": [],
      "source": [
        "#(iii)\tDrop the columns where any of the elements is nan"
      ]
    },
    {
      "cell_type": "code",
      "execution_count": 27,
      "metadata": {
        "colab": {
          "base_uri": "https://localhost:8080/"
        },
        "id": "rZiv6hiFVyjG",
        "outputId": "7ed556ed-db24-4ea4-9d12-4c76a81a37e4"
      },
      "outputs": [
        {
          "output_type": "stream",
          "name": "stdout",
          "text": [
            "  Gender   Income   Religion\n",
            "0      M  24200.0     Muslim\n",
            "1      F  34795.0  Christian\n",
            "2      F  45390.0     Muslim\n",
            "3      M  34795.0     Muslim\n"
          ]
        }
      ],
      "source": [
        "df_dropped = df.dropna(axis=1)\n",
        "print(df_dropped)"
      ]
    },
    {
      "cell_type": "code",
      "execution_count": null,
      "metadata": {
        "collapsed": true,
        "id": "7XwrOcrcVyjG"
      },
      "outputs": [],
      "source": [
        "#(iv)\tKeep only the rows with at least 2 non-na values"
      ]
    },
    {
      "cell_type": "code",
      "execution_count": 28,
      "metadata": {
        "colab": {
          "base_uri": "https://localhost:8080/"
        },
        "id": "APGB8aK4VyjH",
        "outputId": "b950256b-351f-4e90-e995-c89e17f68616"
      },
      "outputs": [
        {
          "output_type": "stream",
          "name": "stdout",
          "text": [
            "None\n"
          ]
        }
      ],
      "source": [
        "df_filtered = df.dropna(thresh=2, inplace=True)\n",
        "\n",
        "print(df_filtered)"
      ]
    }
  ],
  "metadata": {
    "kernelspec": {
      "display_name": "Python 3 (ipykernel)",
      "language": "python",
      "name": "python3"
    },
    "language_info": {
      "codemirror_mode": {
        "name": "ipython",
        "version": 3
      },
      "file_extension": ".py",
      "mimetype": "text/x-python",
      "name": "python",
      "nbconvert_exporter": "python",
      "pygments_lexer": "ipython3",
      "version": "3.9.12"
    },
    "colab": {
      "provenance": []
    }
  },
  "nbformat": 4,
  "nbformat_minor": 0
}